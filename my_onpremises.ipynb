{
 "cells": [
  {
   "cell_type": "markdown",
   "id": "2acedcb8",
   "metadata": {},
   "source": [
    "# Problem: Predicting Airplane Delays\n",
    "\n",
    "The goals of this notebook are:\n",
    "- Process and create a dataset from downloaded ZIP files\n",
    "- Exploratory data analysis (EDA)\n",
    "- Establish a baseline model and improve it\n",
    "\n",
    "## Introduction to business scenario\n",
    "You work for a travel booking website that is working to improve the customer experience for flights that were delayed. The company wants to create a feature to let customers know if the flight will be delayed due to weather when the customers are booking the flight to or from the busiest airports for domestic travel in the US. \n",
    "\n",
    "You are tasked with solving part of this problem by leveraging machine learning to identify whether the flight will be delayed due to weather. You have been given access to the a dataset of on-time performance of domestic flights operated by large air carriers. You can use this data to train a machine learning model to predict if the flight is going to be delayed for the busiest airports.\n",
    "\n",
    "### Dataset\n",
    "The provided dataset contains scheduled and actual departure and arrival times reported by certified US air carriers that account for at least 1 percent of domestic scheduled passenger revenues. The data was collected by the Office of Airline Information, Bureau of Transportation Statistics (BTS). The dataset contains date, time, origin, destination, airline, distance, and delay status of flights for flights between 2014 and 2018.\n",
    "The data are in 60 compressed files, where each file contains a CSV for the flight details in a month for the five years (from 2014 - 2018). The data can be downloaded from this link: [https://ucstaff-my.sharepoint.com/:f:/g/personal/ibrahim_radwan_canberra_edu_au/Er0nVreXmihEmtMz5qC5kVIB81-ugSusExPYdcyQTglfLg?e=bNO312]. Please download the data files and place them on a relative path. Dataset(s) used in this assignment were compiled by the Office of Airline Information, Bureau of Transportation Statistics (BTS), Airline On-Time Performance Data, available with the following link: [https://www.transtats.bts.gov/Fields.asp?gnoyr_VQ=FGJ]. \n"
   ]
  },
  {
   "cell_type": "markdown",
   "id": "7983bcd8",
   "metadata": {},
   "source": [
    "# Step 1: Problem formulation and data collection\n",
    "\n",
    "Start this project off by writing a few sentences below that summarize the business problem and the business goal you're trying to achieve in this scenario. Include a business metric you would like your team to aspire toward. With that information defined, clearly write out the machine learning problem statement. Finally, add a comment or two about the type of machine learning this represents. \n",
    "\n",
    "\n",
    "### 1. Determine if and why ML is an appropriate solution to deploy."
   ]
  },
  {
   "cell_type": "markdown",
   "id": "d51eb926",
   "metadata": {},
   "source": [
    "Business Problem: Flight delays are a common frustration for travelers, disrupting their schedules and plans.\n",
    "\n",
    "Business Goal: Improve the customer booking experience by predicting weather-related flight delays.\n",
    "\n",
    "Machine Learning Problem Statement: Predict whether a domestic flight will be delayed due to weather conditions, based on historical flight performance data, including scheduled and actual departure times, flight distances, origin and destination airports, and carriers.\n",
    "\n",
    "Type of Machine Learning: Supervised learning, classification task.\n",
    "\n",
    "ML Appropriateness: ML is an appropriate solution because:\n",
    "\n",
    "Historical data is available on flight times and delays.\n",
    "ML algorithms can identify complex patterns in data that may correlate with weather-related delays.\n",
    "ML models can automatically process and analyze large volumes of data.\n",
    "ML can use historical trends to make predictions about future events.\n",
    "ML models can be retrained and improved over time.\n",
    "In summary, ML has the potential to provide a more robust and scalable solution than traditional rule-based systems for predicting flight delays."
   ]
  },
  {
   "cell_type": "markdown",
   "id": "c6ad873f",
   "metadata": {},
   "source": [
    "### 2. Formulate the business problem, success metrics, and desired ML output."
   ]
  },
  {
   "cell_type": "markdown",
   "id": "a2509a51",
   "metadata": {},
   "source": [
    "Business Problem: We want to provide customers with a way to see real-time predictions of weather-related flight delays before they book their flights. \n",
    "\n",
    "This will help them to plan their travel more effectively and manage their expectations.\n",
    "\n",
    "Desired ML Output: We want the ML model to output a binary prediction for each flight, indicating whether it is likely to be delayed due to weather:\n",
    "\n",
    "0: The flight is unlikely to be delayed due to weather.\n",
    "\n",
    "1: The flight is likely to be delayed due to weather.\n",
    "\n",
    "Additionally, it would be helpful to provide a confidence score for each prediction, giving customers an idea of how certain the model is about the prediction. \n",
    "This could be in the form of a probability score that indicates the likelihood of a delay.\n",
    "\n",
    "Success Metrics: We will measure the success of our solution by tracking the following metrics:\n",
    "\n",
    "Prediction Accuracy: The percentage of flight delay predictions that are correct.\n",
    "\n",
    "Reduction in Customer Complaints: The number of customer complaints related to unexpected flight delays.\n",
    "\n",
    "Increase in Customer Satisfaction: Customer satisfaction scores related to the new predictive feature.\n",
    "\n",
    "Booking Conversion Rate: The number of bookings made using the prediction feature.\n",
    "\n",
    "Customer Retention Rate: The rate at which customers return to book flights with us.\n",
    "\n",
    "We believe that by providing customers with real-time predictions of weather-related flight delays, we can improve their satisfaction and trust in our travel booking system.\n"
   ]
  },
  {
   "cell_type": "markdown",
   "id": "de0b8755",
   "metadata": {},
   "source": [
    "### 3. Identify the type of ML problem you’re dealing with."
   ]
  },
  {
   "cell_type": "markdown",
   "id": "8ad0a267",
   "metadata": {},
   "source": [
    "Supervised binary classification is the type of machine learning problem we are facing in this scenario. \n",
    "This implies that the model will learn from historical flight data, where the delay status is known, to predict delays for new, unseen flights. \n",
    "\n",
    "The two classes in this case are:\n",
    "\n",
    "Class 0: The flight will not be delayed due to weather.\n",
    "\n",
    "Class 1: The flight will be delayed due to weather.\n",
    "\n",
    "The model will learn to distinguish between these two classes by analyzing the input features, which may include historical flight data and weather data. \n",
    "Once trained, the model can be used to predict the delay status of new flights by providing it with the relevant input features.\n",
    "\n",
    "In simpler terms, we are trying to train a machine learning model to identify which flights are likely to be delayed due to weather. \n",
    "We will do this by providing the model with historical flight data, which includes information such as the scheduled and actual departure times, flight distances, origin and destination airports, and carriers. \n",
    "The model will also be given weather data, such as the forecast for the day of the flight. Once the model is trained, it will be able to predict the delay status of new flights by analyzing the input features.\n",
    "\n",
    "This is a binary classification problem because the model is only predicting two possible outcomes: delayed or not delayed."
   ]
  },
  {
   "cell_type": "markdown",
   "id": "2b0b52e2",
   "metadata": {},
   "source": [
    "### Setup\n",
    "\n",
    "Now that we have decided where to focus our energy, let's set things up so you can start working on solving the problem."
   ]
  },
  {
   "cell_type": "code",
   "execution_count": 1,
   "id": "4853af70",
   "metadata": {},
   "outputs": [],
   "source": [
    "import os\n",
    "from pathlib2 import Path\n",
    "from zipfile import ZipFile\n",
    "import time\n",
    "\n",
    "import pandas as pd\n",
    "import numpy as np\n",
    "import subprocess\n",
    "\n",
    "import matplotlib.pyplot as plt\n",
    "import seaborn as sns\n",
    "\n",
    "sns.set()\n",
    "\n",
    "import warnings\n",
    "warnings.filterwarnings('ignore')\n",
    "\n",
    "%matplotlib inline\n",
    "\n",
    "# <please add any other library or function you are aiming to import here>\n",
    "from sklearn.model_selection import train_test_split, GridSearchCV, cross_val_score\n",
    "from sklearn.preprocessing import StandardScaler, OneHotEncoder\n",
    "from sklearn.metrics import classification_report, confusion_matrix, accuracy_score\n",
    "from sklearn.ensemble import RandomForestClassifier\n",
    "from sklearn.linear_model import LogisticRegression\n",
    "from sklearn.pipeline import Pipeline\n",
    "\n"
   ]
  },
  {
   "cell_type": "markdown",
   "id": "d001b690",
   "metadata": {},
   "source": [
    "# Step 2: Data preprocessing and visualization  \n",
    "In this data preprocessing phase, you should take the opportunity to explore and visualize your data to better understand it. First, import the necessary libraries and read the data into a Pandas dataframe. After that, explore your data. Look for the shape of the dataset and explore your columns and the types of columns you're working with (numerical, categorical). Consider performing basic statistics on the features to get a sense of feature means and ranges. Take a close look at your target column and determine its distribution.\n",
    "\n",
    "### Specific questions to consider\n",
    "1. What can you deduce from the basic statistics you ran on the features? \n",
    "\n",
    "2. What can you deduce from the distributions of the target classes?\n",
    "\n",
    "3. Is there anything else you deduced from exploring the data?"
   ]
  },
  {
   "cell_type": "markdown",
   "id": "a4f98424",
   "metadata": {},
   "source": [
    "Start by bringing in the dataset from an Amazon S3 public bucket to this notebook environment."
   ]
  },
  {
   "cell_type": "code",
   "execution_count": 4,
   "id": "97c7323d",
   "metadata": {},
   "outputs": [],
   "source": [
    "# download the files\n",
    "\n",
    "\n",
    "zip_path = os.path.join(os.getcwd(),'data_compressed')    #'path to the zip files'\n",
    "base_path =  os.getcwd()                                  #'the path to the folder that contains the whole project (data and code)'\n",
    "csv_base_path = os.path.join(os.getcwd(),'Data_Files')     #'path to where you want the zip files extracted'\n",
    "\n",
    "\n",
    "\n",
    "# Ensure 'data_compressed' and 'Data_Files' directories are in the current working directory\n",
    "#zip_path = os.path.join(os.getcwd(), 'data_compressed')    # 'path to the zip files'\n",
    "#base_path = os.getcwd()                                    # 'the path to the folder that contains the whole project (data and code)'\n",
    "#csv_base_path = os.path.join(os.getcwd(), 'Data_Files')    # 'path to where you want the zip files extracted'\n",
    "\n",
    "# Create the directories if they do not exist\n",
    "#os.makedirs(zip_path, exist_ok=True)\n",
    "#os.makedirs(csv_base_path, exist_ok=True)\n",
    "\n",
    "    \n",
    "#!mkdir -p path/to/directory/Data_Files\n",
    "\n",
    "!mkdir -p {csv_base_path}"
   ]
  },
  {
   "cell_type": "code",
   "execution_count": null,
   "id": "1414d4ba",
   "metadata": {},
   "outputs": [],
   "source": []
  },
  {
   "cell_type": "code",
   "execution_count": 6,
   "id": "362c709e",
   "metadata": {},
   "outputs": [
    {
     "name": "stdout",
     "output_type": "stream",
     "text": [
      "Number of zip files: 0\n",
      "Number of zip files are 0\n"
     ]
    }
   ],
   "source": [
    "# How many zip files do we have? write a code to answer it.\n",
    "\n",
    "\n",
    "zip_path = '/Users/harshapotluri/Documents/DataScicnecTechlogy&systems/FinalProject_U3221945/data_compressed'\n",
    "\n",
    "# This will create the directory if it does not exist already\n",
    "os.makedirs(zip_path, exist_ok=True)\n",
    "\n",
    "try:\n",
    "    zip_files = [f for f in os.listdir(zip_path) if f.endswith('.zip')]\n",
    "    print(\"Number of zip files:\", len(zip_files))\n",
    "except FileNotFoundError as e:\n",
    "    print(e)\n",
    "\n",
    "total_files = len(os.listdir(zip_path))\n",
    "print(\"Number of zip files are\", total_files)"
   ]
  },
  {
   "cell_type": "markdown",
   "id": "5e4d024e",
   "metadata": {},
   "source": [
    "#### Extract CSV files from ZIP files"
   ]
  },
  {
   "cell_type": "code",
   "execution_count": null,
   "id": "8fe81723",
   "metadata": {},
   "outputs": [],
   "source": []
  }
 ],
 "metadata": {
  "kernelspec": {
   "display_name": "Python 3 (ipykernel)",
   "language": "python",
   "name": "python3"
  },
  "language_info": {
   "codemirror_mode": {
    "name": "ipython",
    "version": 3
   },
   "file_extension": ".py",
   "mimetype": "text/x-python",
   "name": "python",
   "nbconvert_exporter": "python",
   "pygments_lexer": "ipython3",
   "version": "3.9.12"
  }
 },
 "nbformat": 4,
 "nbformat_minor": 5
}
